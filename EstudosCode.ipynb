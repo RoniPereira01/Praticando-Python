{
 "cells": [
  {
   "cell_type": "code",
   "execution_count": 3,
   "metadata": {},
   "outputs": [
    {
     "name": "stdout",
     "output_type": "stream",
     "text": [
      "Reprovado!\n"
     ]
    }
   ],
   "source": [
    "a1 = float(input(\"Me forneça sua primeira nota:\"));\n",
    "a2 = float(input(\"Me forneça a segunda nota:\"));\n",
    "\n",
    "media = (a1 + a2)/ 2;\n",
    "\n",
    "if media == 10:\n",
    "    print(\"Aprovado com Distinção!\")\n",
    "elif media < 7:\n",
    "    print(\"Reprovado!\")\n",
    "elif media >= 7:\n",
    "    print(\"Aprovado!\")"
   ]
  },
  {
   "cell_type": "code",
   "execution_count": null,
   "metadata": {},
   "outputs": [],
   "source": [
    "list_nums = []\n",
    "\n",
    "for i in range(3):\n",
    "    print(\"Informe p {}\".format(i + 1))\n",
    "    x = int(input())\n",
    "    list_nums.append(x)\n",
    "\n",
    "list_nums.sort()\n",
    "print(\"O maior numero é: {}\", format(list_nums[-1]))\n",
    "print(\"O menorr numero é: {}\", format(list_nums[0]))"
   ]
  },
  {
   "cell_type": "code",
   "execution_count": 3,
   "metadata": {},
   "outputs": [
    {
     "name": "stdout",
     "output_type": "stream",
     "text": [
      "Informe o nome:\n",
      "Informe a idade:\n",
      "A idade deve estar entre 0 e 150\n",
      "Informe a idade:\n"
     ]
    }
   ],
   "source": [
    "print(\"Informe o nome:\")\n",
    "nome = input()\n",
    "while len(nome) <= 3:\n",
    "    print(\"O nome deve conter mais de 3 caracteres.\")\n",
    "    print(\"Informe o nome:\")\n",
    "    nome = input()\n",
    "\n",
    "print(\"Informe a idade:\")\n",
    "idade = int(input())\n",
    "while (idade <= 0) or (idade >= 150):\n",
    "    print(\"A idade deve estar entre 0 e 150\")\n",
    "    print(\"Informe a idade:\")\n",
    "    idade = int(input())"
   ]
  },
  {
   "cell_type": "markdown",
   "metadata": {},
   "source": [
    "Funções"
   ]
  },
  {
   "cell_type": "code",
   "execution_count": 1,
   "metadata": {},
   "outputs": [],
   "source": [
    "def diga_ola():\n",
    "    print(\"Ola, Mundo!!\")"
   ]
  },
  {
   "cell_type": "code",
   "execution_count": 4,
   "metadata": {},
   "outputs": [
    {
     "name": "stdout",
     "output_type": "stream",
     "text": [
      "Ola, Mundo!!\n"
     ]
    }
   ],
   "source": [
    "diga_ola()"
   ]
  },
  {
   "cell_type": "code",
   "execution_count": 15,
   "metadata": {},
   "outputs": [
    {
     "name": "stdout",
     "output_type": "stream",
     "text": [
      "Ola, John!!\n"
     ]
    }
   ],
   "source": [
    "def diga_ola(Nome):\n",
    "    \n",
    "    print(\"Ola, {}!!\".format(Nome))\n",
    "\n",
    "diga_ola(\"John\")"
   ]
  },
  {
   "cell_type": "code",
   "execution_count": 19,
   "metadata": {},
   "outputs": [
    {
     "data": {
      "text/plain": [
       "[1,\n",
       " 3,\n",
       " 5,\n",
       " 7,\n",
       " 9,\n",
       " 11,\n",
       " 13,\n",
       " 15,\n",
       " 17,\n",
       " 19,\n",
       " 21,\n",
       " 23,\n",
       " 25,\n",
       " 27,\n",
       " 29,\n",
       " 31,\n",
       " 33,\n",
       " 35,\n",
       " 37,\n",
       " 39,\n",
       " 41,\n",
       " 43,\n",
       " 45,\n",
       " 47,\n",
       " 49]"
      ]
     },
     "execution_count": 19,
     "metadata": {},
     "output_type": "execute_result"
    }
   ],
   "source": [
    "def return_impar(x):\n",
    "    return[ i for i in range(x) if i % 2 == 1 ]\n",
    "\n",
    "\n",
    "return_impar(50)"
   ]
  },
  {
   "cell_type": "code",
   "execution_count": null,
   "metadata": {},
   "outputs": [],
   "source": []
  }
 ],
 "metadata": {
  "kernelspec": {
   "display_name": "Python 3",
   "language": "python",
   "name": "python3"
  },
  "language_info": {
   "codemirror_mode": {
    "name": "ipython",
    "version": 3
   },
   "file_extension": ".py",
   "mimetype": "text/x-python",
   "name": "python",
   "nbconvert_exporter": "python",
   "pygments_lexer": "ipython3",
   "version": "3.12.6"
  }
 },
 "nbformat": 4,
 "nbformat_minor": 2
}
